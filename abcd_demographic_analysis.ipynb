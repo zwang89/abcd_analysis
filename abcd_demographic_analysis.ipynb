{
 "cells": [
  {
   "cell_type": "markdown",
   "metadata": {},
   "source": [
    "### This jupyter notebook analyzes the  abcd 2.0 data and profile participants for further investigation"
   ]
  },
  {
   "cell_type": "code",
   "execution_count": 1,
   "metadata": {},
   "outputs": [],
   "source": [
    "# import related libraries\n",
    "import numpy as np\n",
    "import pandas as pd\n",
    "import seaborn as sns\n",
    "sns.set()"
   ]
  },
  {
   "cell_type": "code",
   "execution_count": 2,
   "metadata": {},
   "outputs": [],
   "source": [
    "%matplotlib inline"
   ]
  },
  {
   "cell_type": "code",
   "execution_count": 3,
   "metadata": {},
   "outputs": [],
   "source": [
    "# to avoid memory issue, delete the second row, which is the questionnaire \n",
    "infile = open('pdem02.txt','r').readlines()\n",
    "with open('abcd_demo.txt','w') as outfile:\n",
    "    for index,line in enumerate(infile):\n",
    "        \"\"\"\n",
    "        find the index not eaqual to one \n",
    "        then write the file \n",
    "        \"\"\"\n",
    "        if index != 1:\n",
    "            outfile.write(line)"
   ]
  },
  {
   "cell_type": "code",
   "execution_count": 4,
   "metadata": {},
   "outputs": [],
   "source": [
    "# read data into pandas\n",
    "# abcd study data file seperate by \"\\t\"\n",
    "abcd_demo = pd.read_csv('abcd_demo.txt',sep = '\\t')"
   ]
  },
  {
   "cell_type": "markdown",
   "metadata": {},
   "source": [
    "## to clean the data and proflie participants"
   ]
  },
  {
   "cell_type": "code",
   "execution_count": 5,
   "metadata": {},
   "outputs": [
    {
     "data": {
      "text/plain": [
       "11875"
      ]
     },
     "execution_count": 5,
     "metadata": {},
     "output_type": "execute_result"
    }
   ],
   "source": [
    "abcd_demo['subjectkey'].nunique()"
   ]
  },
  {
   "cell_type": "markdown",
   "metadata": {},
   "source": [
    "#### age of children"
   ]
  },
  {
   "cell_type": "code",
   "execution_count": 6,
   "metadata": {
    "scrolled": false
   },
   "outputs": [
    {
     "data": {
      "text/plain": [
       "<matplotlib.axes._subplots.AxesSubplot at 0x1a1e188e80>"
      ]
     },
     "execution_count": 6,
     "metadata": {},
     "output_type": "execute_result"
    },
    {
     "data": {
      "image/png": "[encoded data removed]",
      "text/plain": [
       "<Figure size 432x288 with 1 Axes>"
      ]
     },
     "metadata": {
      "needs_background": "light"
     },
     "output_type": "display_data"
    }
   ],
   "source": [
    "# convert age to years\n",
    "abcd_demo['age'] = abcd_demo['interview_age']/12\n",
    "abcd_demo['interview_age'].value_counts()\n",
    "abcd_demo['age'].plot.hist()"
   ]
  },
  {
   "cell_type": "markdown",
   "metadata": {},
   "source": [
    "### age of parent"
   ]
  },
  {
   "cell_type": "code",
   "execution_count": 7,
   "metadata": {},
   "outputs": [
    {
     "data": {
      "text/plain": [
       "<matplotlib.axes._subplots.AxesSubplot at 0x1a1e531828>"
      ]
     },
     "execution_count": 7,
     "metadata": {},
     "output_type": "execute_result"
    },
    {
     "data": {
      "image/png": "[encoded data removed]",
      "text/plain": [
       "<Figure size 432x288 with 1 Axes>"
      ]
     },
     "metadata": {
      "needs_background": "light"
     },
     "output_type": "display_data"
    }
   ],
   "source": [
    "abcd_demo['age_prnt'] = abcd_demo['demo_prnt_age_v2']\n",
    "\n",
    "# quick viz age of parent \n",
    "abcd_demo['age_prnt'].plot.hist()"
   ]
  },
  {
   "cell_type": "markdown",
   "metadata": {},
   "source": [
    "#### Race\n",
    "1. white\n",
    "2. africa american\n",
    "3. hispanic\n",
    "4. others"
   ]
  },
  {
   "cell_type": "code",
   "execution_count": 8,
   "metadata": {},
   "outputs": [],
   "source": [
    "# equivalent method to sql case when \n",
    "abcd_demo['race'] = 4\n",
    "abcd_demo.loc[(abcd_demo.demo_race_a_p___10 ==1) & \n",
    "              (abcd_demo.demo_ethn_v2 != 1) & \n",
    "              (abcd_demo.demo_race_a_p___11 !=1), 'race'] = 1\n",
    "abcd_demo.loc[(abcd_demo.demo_race_a_p___11 == 1) &\n",
    "              (abcd_demo.demo_ethn_v2 != 1) &\n",
    "               (abcd_demo.demo_race_a_p___10 != 1), 'race'] =2\n",
    "abcd_demo.loc[\n",
    "   abcd_demo.demo_ethn_v2 ==1, 'race'] =3 "
   ]
  },
  {
   "cell_type": "code",
   "execution_count": 10,
   "metadata": {},
   "outputs": [
    {
     "data": {
      "text/plain": [
       "<matplotlib.axes._subplots.AxesSubplot at 0x1a1eb06f60>"
      ]
     },
     "execution_count": 10,
     "metadata": {},
     "output_type": "execute_result"
    },
    {
     "data": {
      "image/png": "[encoded data removed]",
      "text/plain": [
       "<Figure size 432x288 with 1 Axes>"
      ]
     },
     "metadata": {
      "needs_background": "light"
     },
     "output_type": "display_data"
    }
   ],
   "source": [
    "abcd_demo['race'].value_counts()\n",
    "abcd_demo['race'].plot.hist(bins =4)"
   ]
  },
  {
   "cell_type": "markdown",
   "metadata": {},
   "source": [
    "### sex"
   ]
  },
  {
   "cell_type": "code",
   "execution_count": 13,
   "metadata": {},
   "outputs": [
    {
     "data": {
      "text/plain": [
       "M    6188\n",
       "F    5681\n",
       "Name: gender, dtype: int64"
      ]
     },
     "execution_count": 13,
     "metadata": {},
     "output_type": "execute_result"
    }
   ],
   "source": [
    "abcd_demo['gender'].value_counts()\n"
   ]
  },
  {
   "cell_type": "markdown",
   "metadata": {},
   "source": [
    "### children born in us\n",
    "1 = 'yes'\n",
    "2 = 'no'"
   ]
  },
  {
   "cell_type": "code",
   "execution_count": 14,
   "metadata": {},
   "outputs": [
    {
     "data": {
      "text/plain": [
       "1    11509\n",
       "0      366\n",
       "Name: born_us, dtype: int64"
      ]
     },
     "execution_count": 14,
     "metadata": {},
     "output_type": "execute_result"
    }
   ],
   "source": [
    "abcd_demo['born_us'] = 0\n",
    "abcd_demo.loc[ abcd_demo.demo_origin_v2 == 189, 'born_us'] = 1 # '189' is usa code \n",
    "abcd_demo['born_us'].value_counts()"
   ]
  },
  {
   "cell_type": "markdown",
   "metadata": {},
   "source": [
    "### marital status\n",
    "1 = married / living with partner   \n",
    "2 = divorced /separted  \n",
    "3 = signle never married  \n",
    "4 = widowed  \n",
    "'' missing "
   ]
  },
  {
   "cell_type": "code",
   "execution_count": 15,
   "metadata": {},
   "outputs": [
    {
     "data": {
      "text/plain": [
       "1.0      7990\n",
       "5.0      1456\n",
       "3.0      1082\n",
       "6.0       689\n",
       "4.0       463\n",
       "2.0        97\n",
       "777.0      95\n",
       "Name: demo_prnt_marital_v2, dtype: int64"
      ]
     },
     "execution_count": 15,
     "metadata": {},
     "output_type": "execute_result"
    }
   ],
   "source": [
    "abcd_demo['demo_prnt_marital_v2'].value_counts() # change the coding based on above notes "
   ]
  },
  {
   "cell_type": "code",
   "execution_count": 16,
   "metadata": {},
   "outputs": [],
   "source": [
    "abcd_demo['marital_prnt'] = 1\n",
    "abcd_demo.loc[abcd_demo.demo_prnt_marital_v2 == 6, 'marital_prnt' ] = 1\n",
    "abcd_demo.loc[(abcd_demo.demo_prnt_marital_v2 == 3) | \n",
    "             (abcd_demo.demo_prnt_marital_v2 == 4), 'marital_prnt'] = 2\n",
    "abcd_demo.loc[abcd_demo.demo_prnt_marital_v2 ==5, 'marital_prnt'] = 3\n",
    "abcd_demo.loc[abcd_demo.demo_prnt_marital_v2 == 2, 'marital_prnt'] = 4\n",
    "abcd_demo.loc[abcd_demo.demo_prnt_marital_v2== 777, 'marital_prnt'] = np.nan"
   ]
  },
  {
   "cell_type": "code",
   "execution_count": 17,
   "metadata": {},
   "outputs": [
    {
     "data": {
      "text/plain": [
       " 1.0    8682\n",
       " 2.0    1545\n",
       " 3.0    1456\n",
       " 4.0      97\n",
       "NaN       95\n",
       "Name: marital_prnt, dtype: int64"
      ]
     },
     "execution_count": 17,
     "metadata": {},
     "output_type": "execute_result"
    }
   ],
   "source": [
    "abcd_demo['marital_prnt'].value_counts(dropna=False)\n"
   ]
  },
  {
   "cell_type": "code",
   "execution_count": 18,
   "metadata": {},
   "outputs": [
    {
     "data": {
      "text/plain": [
       "<matplotlib.axes._subplots.AxesSubplot at 0x1a215a6630>"
      ]
     },
     "execution_count": 18,
     "metadata": {},
     "output_type": "execute_result"
    },
    {
     "data": {
      "image/png": "[encoded data removed]",
      "text/plain": [
       "<Figure size 432x288 with 1 Axes>"
      ]
     },
     "metadata": {
      "needs_background": "light"
     },
     "output_type": "display_data"
    }
   ],
   "source": [
    "abcd_demo['marital_prnt'].plot.hist()"
   ]
  },
  {
   "cell_type": "markdown",
   "metadata": {},
   "source": [
    "### parent education\n",
    "1 <= high school or GED  \n",
    "2 = some college or associate degree  \n",
    "3 = bacholor degree  \n",
    "4 =  graducate degree (master,phd, md, etc...)  \n",
    "'' missing "
   ]
  },
  {
   "cell_type": "code",
   "execution_count": 19,
   "metadata": {},
   "outputs": [
    {
     "data": {
      "text/plain": [
       " 18.0     3331\n",
       " 19.0     2281\n",
       " 15.0     1951\n",
       " 13.0      990\n",
       " 16.0      873\n",
       " 17.0      662\n",
       " 21.0      380\n",
       " 20.0      334\n",
       " 14.0      268\n",
       " 11.0      193\n",
       " 12.0      182\n",
       " 9.0       136\n",
       " 10.0      106\n",
       " 6.0        62\n",
       " 8.0        61\n",
       " 7.0        21\n",
       " 777.0      17\n",
       " 3.0        10\n",
       " 4.0         8\n",
       " 5.0         3\n",
       "NaN          3\n",
       " 1.0         2\n",
       " 2.0         1\n",
       "Name: demo_prnt_ed_v2, dtype: int64"
      ]
     },
     "execution_count": 19,
     "metadata": {},
     "output_type": "execute_result"
    }
   ],
   "source": [
    "abcd_demo['demo_prnt_ed_v2'].value_counts(dropna=False)"
   ]
  },
  {
   "cell_type": "code",
   "execution_count": 20,
   "metadata": {},
   "outputs": [],
   "source": [
    "abcd_demo['prnt_edu'] = np.nan\n",
    "abcd_demo.loc[abcd_demo.demo_prnt_ed_v2 < 15 , 'prnt_edu'] = 1 # <= high school or GED equivalent\n",
    "abcd_demo.loc[abcd_demo.demo_prnt_ed_v2.isin([15,16,17]), 'prnt_edu'] = 2 # some college, associate degree\n",
    "abcd_demo.loc[abcd_demo.demo_prnt_ed_v2 == 18,'prnt_edu'] = 3 # bacholor degree\n",
    "abcd_demo.loc[abcd_demo.demo_prnt_ed_v2.isin([19,20,21]), 'prnt_edu'] = 4 # graduate degree\n",
    "abcd_demo.loc[abcd_demo.demo_prnt_ed_v2 == 777,'prnt_edu'] = np.nan #refuse to anwser"
   ]
  },
  {
   "cell_type": "code",
   "execution_count": 21,
   "metadata": {},
   "outputs": [
    {
     "data": {
      "text/plain": [
       " 2.0    3486\n",
       " 3.0    3331\n",
       " 4.0    2995\n",
       " 1.0    2043\n",
       "NaN       20\n",
       "Name: prnt_edu, dtype: int64"
      ]
     },
     "execution_count": 21,
     "metadata": {},
     "output_type": "execute_result"
    }
   ],
   "source": [
    "abcd_demo['prnt_edu'].value_counts(dropna=False)"
   ]
  },
  {
   "cell_type": "code",
   "execution_count": 22,
   "metadata": {},
   "outputs": [
    {
     "data": {
      "text/plain": [
       "<matplotlib.axes._subplots.AxesSubplot at 0x1a21642cf8>"
      ]
     },
     "execution_count": 22,
     "metadata": {},
     "output_type": "execute_result"
    },
    {
     "data": {
      "image/png": "[encoded data removed]",
      "text/plain": [
       "<Figure size 432x288 with 1 Axes>"
      ]
     },
     "metadata": {
      "needs_background": "light"
     },
     "output_type": "display_data"
    }
   ],
   "source": [
    "abcd_demo['prnt_edu'].plot.hist()"
   ]
  },
  {
   "cell_type": "markdown",
   "metadata": {},
   "source": [
    "### employment  \n",
    "#### based on demo_prnt_empl_v2 and demo_prnt_empl_time  \n",
    "1 = full time  \n",
    "2 = part time  \n",
    "3 = umployment (temp laid off, looking for work, umpymed not looking for work)  \n",
    "4 = other  (student, stay at home, sick leave, maternity leave, etc...)  \n",
    "missing  = refuse to answers  \n",
    "\n",
    "*note: there are 41 participants answered demo_prnt_empl_v2 but not demo_prnt_empl_time*"
   ]
  },
  {
   "cell_type": "code",
   "execution_count": 23,
   "metadata": {},
   "outputs": [],
   "source": [
    "abcd_demo['prnt_empl'] = np.nan\n",
    "abcd_demo.loc[(abcd_demo.demo_prnt_empl_time ==1) & (abcd_demo.demo_prnt_empl_v2 == 1),'prnt_empl'] = 1\n",
    "abcd_demo.loc[(abcd_demo.demo_prnt_empl_time ==2) & (abcd_demo.demo_prnt_empl_v2 == 1),'prnt_empl'] = 2\n",
    "abcd_demo.loc[(abcd_demo.demo_prnt_empl_v2.isin([2,3,11])),'prnt_empl'] = 3\n",
    "abcd_demo.loc[(abcd_demo.demo_prnt_empl_v2.isin([4,5,6,7,8,9,10])),'prnt_empl'] = 4                                                                   \n",
    "abcd_demo.loc[abcd_demo.demo_prnt_empl_v2 == 777, 'prnt_empl'] = np.nan"
   ]
  },
  {
   "cell_type": "code",
   "execution_count": 24,
   "metadata": {},
   "outputs": [
    {
     "data": {
      "text/plain": [
       " 1.0    5956\n",
       " 4.0    2931\n",
       " 2.0    2218\n",
       " 3.0     673\n",
       "NaN       97\n",
       "Name: prnt_empl, dtype: int64"
      ]
     },
     "execution_count": 24,
     "metadata": {},
     "output_type": "execute_result"
    }
   ],
   "source": [
    "abcd_demo['prnt_empl'].value_counts(dropna=False)"
   ]
  },
  {
   "cell_type": "code",
   "execution_count": 26,
   "metadata": {},
   "outputs": [
    {
     "data": {
      "text/plain": [
       "<matplotlib.axes._subplots.AxesSubplot at 0x1a216a2f28>"
      ]
     },
     "execution_count": 26,
     "metadata": {},
     "output_type": "execute_result"
    },
    {
     "data": {
      "image/png": "[encoded data removed]",
      "text/plain": [
       "<Figure size 432x288 with 1 Axes>"
      ]
     },
     "metadata": {
      "needs_background": "light"
     },
     "output_type": "display_data"
    }
   ],
   "source": [
    "abcd_demo['prnt_empl'].plot.hist()"
   ]
  },
  {
   "cell_type": "markdown",
   "metadata": {},
   "source": [
    "### raise child(ren) alone - problematic \n",
    "based on demo_prnt_prtnr_v2  \n",
    "***codebook indicates no value 3 in the variable but shows 3***"
   ]
  },
  {
   "cell_type": "code",
   "execution_count": 27,
   "metadata": {},
   "outputs": [
    {
     "data": {
      "text/plain": [
       "1.0      9478\n",
       "2.0      2271\n",
       "777.0     123\n",
       "Name: demo_prnt_prtnr_v2, dtype: int64"
      ]
     },
     "execution_count": 27,
     "metadata": {},
     "output_type": "execute_result"
    }
   ],
   "source": [
    "abcd_demo['demo_prnt_prtnr_v2'].value_counts()"
   ]
  },
  {
   "cell_type": "markdown",
   "metadata": {},
   "source": [
    "### famliy income   \n",
    "based on demo_comb_income_v2\t"
   ]
  },
  {
   "cell_type": "code",
   "execution_count": 28,
   "metadata": {},
   "outputs": [
    {
     "data": {
      "text/plain": [
       "9.0      3316\n",
       "8.0      1571\n",
       "7.0      1499\n",
       "10.0     1249\n",
       "6.0       934\n",
       "5.0       653\n",
       "4.0       523\n",
       "777.0     511\n",
       "999.0     504\n",
       "2.0       422\n",
       "1.0       416\n",
       "3.0       274\n",
       "Name: demo_comb_income_v2, dtype: int64"
      ]
     },
     "execution_count": 28,
     "metadata": {},
     "output_type": "execute_result"
    }
   ],
   "source": [
    "abcd_demo['demo_comb_income_v2'].value_counts()"
   ]
  },
  {
   "cell_type": "code",
   "execution_count": 29,
   "metadata": {},
   "outputs": [],
   "source": [
    "abcd_demo['comb_income'] = abcd_demo['demo_comb_income_v2']\n",
    "abcd_demo.loc[(abcd_demo.demo_comb_income_v2 == 777) | (abcd_demo.demo_comb_income_v2 == 999), 'comb_income'] = np.nan"
   ]
  },
  {
   "cell_type": "code",
   "execution_count": 30,
   "metadata": {},
   "outputs": [
    {
     "data": {
      "text/plain": [
       " 9.0     3316\n",
       " 8.0     1571\n",
       " 7.0     1499\n",
       " 10.0    1249\n",
       "NaN      1018\n",
       " 6.0      934\n",
       " 5.0      653\n",
       " 4.0      523\n",
       " 2.0      422\n",
       " 1.0      416\n",
       " 3.0      274\n",
       "Name: comb_income, dtype: int64"
      ]
     },
     "execution_count": 30,
     "metadata": {},
     "output_type": "execute_result"
    }
   ],
   "source": [
    "abcd_demo['comb_income'].value_counts(dropna=False)"
   ]
  },
  {
   "cell_type": "markdown",
   "metadata": {},
   "source": [
    "### evicted experience (parents or immediate familiy)\n",
    "based on demo_fam_exp4_v2   \n",
    "777 = missing "
   ]
  },
  {
   "cell_type": "code",
   "execution_count": 31,
   "metadata": {},
   "outputs": [
    {
     "data": {
      "text/plain": [
       "0.0      11673\n",
       "1.0        168\n",
       "777.0       30\n",
       "Name: demo_fam_exp4_v2, dtype: int64"
      ]
     },
     "execution_count": 31,
     "metadata": {},
     "output_type": "execute_result"
    }
   ],
   "source": [
    "abcd_demo['demo_fam_exp4_v2'].value_counts()"
   ]
  },
  {
   "cell_type": "code",
   "execution_count": 35,
   "metadata": {},
   "outputs": [
    {
     "data": {
      "text/plain": [
       "0.0      11673\n",
       "1.0        168\n",
       "777.0       30\n",
       "Name: evct_exp, dtype: int64"
      ]
     },
     "execution_count": 35,
     "metadata": {},
     "output_type": "execute_result"
    }
   ],
   "source": [
    "abcd_demo['evct_exp'] = abcd_demo['demo_fam_exp4_v2']\n",
    "abcd_demo.loc[abcd_demo.demo_fam_exp4_v2 == 777,'evct.exp'] = np.nan\n",
    "abcd_demo['evct_exp'].value_counts()"
   ]
  },
  {
   "cell_type": "markdown",
   "metadata": {},
   "source": [
    "### unmet healthcare needs\n",
    "based on demo_fam_exp6_v2 (see a doctor) and demo_fam_exp7_v2 (see a dentist)   \n",
    "1 = yes, have either doctor or dentist or both unmet needs  \n",
    "0 = no, no such unmet needs"
   ]
  },
  {
   "cell_type": "code",
   "execution_count": 36,
   "metadata": {},
   "outputs": [
    {
     "data": {
      "text/plain": [
       "0.0      11211\n",
       "1.0        623\n",
       "777.0       38\n",
       "Name: demo_fam_exp6_v2, dtype: int64"
      ]
     },
     "execution_count": 36,
     "metadata": {},
     "output_type": "execute_result"
    }
   ],
   "source": [
    "abcd_demo['demo_fam_exp6_v2'].value_counts()"
   ]
  },
  {
   "cell_type": "code",
   "execution_count": 37,
   "metadata": {},
   "outputs": [
    {
     "data": {
      "text/plain": [
       "0.0      10612\n",
       "1.0       1213\n",
       "777.0       47\n",
       "Name: demo_fam_exp7_v2, dtype: int64"
      ]
     },
     "execution_count": 37,
     "metadata": {},
     "output_type": "execute_result"
    }
   ],
   "source": [
    "abcd_demo['demo_fam_exp7_v2'].value_counts()"
   ]
  },
  {
   "cell_type": "code",
   "execution_count": 38,
   "metadata": {},
   "outputs": [],
   "source": [
    "abcd_demo['healthcare_unmet'] = 0\n",
    "abcd_demo.loc[(abcd_demo.demo_fam_exp6_v2 == 1) |(abcd_demo.demo_fam_exp7_v2 == 1), 'healthcare_unmet'] = 1\n",
    "abcd_demo.loc[(abcd_demo.demo_fam_exp6_v2 == 777) &(abcd_demo.demo_fam_exp7_v2 == 777), 'healthcare_unmet'] = np.nan"
   ]
  },
  {
   "cell_type": "code",
   "execution_count": 39,
   "metadata": {},
   "outputs": [
    {
     "data": {
      "text/plain": [
       " 0.0    10480\n",
       " 1.0     1361\n",
       "NaN        34\n",
       "Name: healthcare_unmet, dtype: int64"
      ]
     },
     "execution_count": 39,
     "metadata": {},
     "output_type": "execute_result"
    }
   ],
   "source": [
    "abcd_demo['healthcare_unmet'].value_counts(dropna=False)"
   ]
  },
  {
   "cell_type": "markdown",
   "metadata": {},
   "source": [
    "### religion ban use substance (alcohol and drugs)\n",
    "based on demo_yrs_2a_2 and demo_yrs_2b_2\t"
   ]
  },
  {
   "cell_type": "code",
   "execution_count": 40,
   "metadata": {},
   "outputs": [
    {
     "data": {
      "text/plain": [
       "0.0      4330\n",
       "1.0      1564\n",
       "999.0     548\n",
       "Name: demo_yrs_2a_2, dtype: int64"
      ]
     },
     "execution_count": 40,
     "metadata": {},
     "output_type": "execute_result"
    }
   ],
   "source": [
    "abcd_demo['demo_yrs_2a_2'].value_counts() # religion ban alcohol"
   ]
  },
  {
   "cell_type": "code",
   "execution_count": 41,
   "metadata": {},
   "outputs": [
    {
     "data": {
      "text/plain": [
       "0.0      3302\n",
       "1.0      2314\n",
       "999.0     824\n",
       "Name: demo_yrs_2b_2, dtype: int64"
      ]
     },
     "execution_count": 41,
     "metadata": {},
     "output_type": "execute_result"
    }
   ],
   "source": [
    "abcd_demo['demo_yrs_2b_2'].value_counts()"
   ]
  },
  {
   "cell_type": "code",
   "execution_count": 42,
   "metadata": {},
   "outputs": [],
   "source": [
    "abcd_demo['rlgn_sub'] = 0\n",
    "abcd_demo.loc[(abcd_demo.demo_yrs_2a_2 == 1) | (abcd_demo.demo_yrs_2b_2) == 1, 'rlgn_sub'] = 1\n",
    "abcd_demo.loc[(abcd_demo.demo_yrs_2a_2 == 999) & (abcd_demo.demo_yrs_2b_2 == 999), 'rlgn_sub'] = 2"
   ]
  },
  {
   "cell_type": "code",
   "execution_count": 43,
   "metadata": {},
   "outputs": [
    {
     "data": {
      "text/plain": [
       "0    8729\n",
       "1    2670\n",
       "2     476\n",
       "Name: rlgn_sub, dtype: int64"
      ]
     },
     "execution_count": 43,
     "metadata": {},
     "output_type": "execute_result"
    }
   ],
   "source": [
    "abcd_demo['rlgn_sub'].value_counts(dropna = False)"
   ]
  }
 ],
 "metadata": {
  "kernelspec": {
   "display_name": "Python 3",
   "language": "python",
   "name": "python3"
  },
  "language_info": {
   "codemirror_mode": {
    "name": "ipython",
    "version": 3
   },
   "file_extension": ".py",
   "mimetype": "text/x-python",
   "name": "python",
   "nbconvert_exporter": "python",
   "pygments_lexer": "ipython3",
   "version": "3.7.1"
  }
 },
 "nbformat": 4,
 "nbformat_minor": 2
}
