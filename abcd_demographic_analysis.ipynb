{
 "cells": [
  {
   "cell_type": "markdown",
   "metadata": {},
   "source": [
    "### This jupyter notebook analyzes the  abcd 2.0 data and profile participants for further investigation"
   ]
  },
  {
   "cell_type": "code",
   "execution_count": 41,
   "metadata": {},
   "outputs": [],
   "source": [
    "# import related libraries\n",
    "import numpy as np\n",
    "import pandas as pd\n",
    "import sklearn"
   ]
  },
  {
   "cell_type": "code",
   "execution_count": 42,
   "metadata": {},
   "outputs": [],
   "source": [
    "# to avoid memory issue, delete the second row, which is the questionnaire \n",
    "infile = open('pdem02.txt','r').readlines()\n",
    "with open('abcd_demo.txt','w') as outfile:\n",
    "    for index,line in enumerate(infile):\n",
    "        \"\"\"\n",
    "        find the index not eaqual to one \n",
    "        then write the file \n",
    "        \"\"\"\n",
    "        if index != 1:\n",
    "            outfile.write(line)"
   ]
  },
  {
   "cell_type": "code",
   "execution_count": 46,
   "metadata": {},
   "outputs": [],
   "source": [
    "# read data into pandas\n",
    "# abcd study data file seperate by \"\\t\"\n",
    "abcd_demo = pd.read_csv('abcd_demo.txt',sep = '\\t')"
   ]
  },
  {
   "cell_type": "markdown",
   "metadata": {},
   "source": [
    "### to clean the data and proflie participants"
   ]
  },
  {
   "cell_type": "code",
   "execution_count": 48,
   "metadata": {},
   "outputs": [
    {
     "data": {
      "text/plain": [
       "11875"
      ]
     },
     "execution_count": 48,
     "metadata": {},
     "output_type": "execute_result"
    }
   ],
   "source": [
    "abcd_demo['subjectkey'].nunique()"
   ]
  },
  {
   "cell_type": "markdown",
   "metadata": {},
   "source": [
    "#### age"
   ]
  },
  {
   "cell_type": "code",
   "execution_count": 49,
   "metadata": {
    "scrolled": false
   },
   "outputs": [],
   "source": [
    "# convert age to years\n",
    "abcd_demo['age'] = abcd_demo['interview_age']/12"
   ]
  },
  {
   "cell_type": "markdown",
   "metadata": {},
   "source": [
    "#### Race\n",
    "1. white\n",
    "2. africa american\n",
    "3. hispanic\n",
    "4. others"
   ]
  },
  {
   "cell_type": "code",
   "execution_count": 68,
   "metadata": {},
   "outputs": [],
   "source": [
    "abcd_demo['race'] = 4\n",
    "abcd_demo.loc[(abcd_demo.demo_race_a_p___10 ==1) & \n",
    "              (abcd_demo.demo_ethn_v2 != 1) & \n",
    "              (abcd_demo.demo_race_a_p___11 !=1), 'race'] = 1\n",
    "abcd_demo.loc[(abcd_demo.demo_race_a_p___11 == 1) &\n",
    "              (abcd_demo.demo_ethn_v2 != 1) &\n",
    "               (abcd_demo.demo_race_a_p___10 != 1), 'race'] =2\n",
    "abcd_demo.loc[\n",
    "   abcd_demo.demo_ethn_v2 ==1, 'race'] =3 "
   ]
  },
  {
   "cell_type": "code",
   "execution_count": 73,
   "metadata": {},
   "outputs": [
    {
     "data": {
      "text/plain": [
       "1    6724\n",
       "3    2409\n",
       "2    1860\n",
       "4     882\n",
       "Name: race, dtype: int64"
      ]
     },
     "execution_count": 73,
     "metadata": {},
     "output_type": "execute_result"
    }
   ],
   "source": [
    "abcd_demo['race'].value_counts()"
   ]
  },
  {
   "cell_type": "code",
   "execution_count": null,
   "metadata": {},
   "outputs": [],
   "source": []
  }
 ],
 "metadata": {
  "kernelspec": {
   "display_name": "Python 3",
   "language": "python",
   "name": "python3"
  },
  "language_info": {
   "codemirror_mode": {
    "name": "ipython",
    "version": 3
   },
   "file_extension": ".py",
   "mimetype": "text/x-python",
   "name": "python",
   "nbconvert_exporter": "python",
   "pygments_lexer": "ipython3",
   "version": "3.7.3"
  }
 },
 "nbformat": 4,
 "nbformat_minor": 2
}
