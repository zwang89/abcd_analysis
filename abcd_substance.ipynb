{
 "cells": [
  {
   "cell_type": "markdown",
   "metadata": {},
   "source": [
    "# This notebook is to explore the substance related variables in ABCD studys\n",
    "\n",
    "## Alcohol, Nicotine, MJ, and Other Substance"
   ]
  },
  {
   "cell_type": "code",
   "execution_count": 2,
   "metadata": {},
   "outputs": [],
   "source": [
    "import numpy as np\n",
    "import pandas as pd\n",
    "import seaborn as sns\n",
    "sns.set()\n",
    "%matplotlib inline"
   ]
  },
  {
   "cell_type": "markdown",
   "metadata": {},
   "source": [
    "### Alcohol\n",
    "### read all files related with alcohol into pandas"
   ]
  },
  {
   "cell_type": "code",
   "execution_count": 7,
   "metadata": {},
   "outputs": [],
   "source": [
    "infile = open('abcd_ysu02.txt','r').readlines()  \n",
    "with open('abcd_sb_ysub_g.txt','w') as outfile:  # mark new file ending with 'g'\n",
    "    for index,line in enumerate(infile):  \n",
    "        \"\"\"  \n",
    "        find the index not eaqual to one \n",
    "        then write the file\n",
    "        \"\"\"  \n",
    "        if index != 1:  \n",
    "            outfile.write(line)              "
   ]
  },
  {
   "cell_type": "code",
   "execution_count": 8,
   "metadata": {},
   "outputs": [
    {
     "name": "stderr",
     "output_type": "stream",
     "text": [
      "/Users/zwang/anaconda3/lib/python3.7/site-packages/IPython/core/interactiveshell.py:3020: DtypeWarning: Columns (98,101,113,118,123,128,133,138,143,156,159,161,166,171,174,176,181,196,229,251,254,256,261,264,266,271,313,423,425,427,429,431,433,435,437,439,441,443,445,447,449,455,466,477,479,481,483,485,542) have mixed types. Specify dtype option on import or set low_memory=False.\n",
      "  interactivity=interactivity, compiler=compiler, result=result)\n"
     ]
    }
   ],
   "source": [
    "youth_substance = pd.read_csv('abcd_sb_ysub_g.txt',sep = '\\t')"
   ]
  },
  {
   "cell_type": "code",
   "execution_count": 100,
   "metadata": {},
   "outputs": [
    {
     "data": {
      "text/plain": [
       "array(['collection_id', 'abcd_ysu02_id', 'dataset_id', 'subjectkey',\n",
       "       'src_subject_id', 'interview_date', 'interview_age', 'gender',\n",
       "       'su_today', 'tlfb_age', 'tlfb_age_month', 'tlfb_age_calc_inmonths',\n",
       "       'tlfb_alc', 'tlfb_tob', 'tlfb_mj', 'tlfb_mj_synth', 'tlfb_bitta',\n",
       "       'tlfb_caff', 'tlfb_inhalant', 'tlfb_rx_misuse', 'tlfb_list_yes_no',\n",
       "       'tlfb_list___1', 'tlfb_list___2', 'tlfb_list___3', 'tlfb_list___4',\n",
       "       'tlfb_list___5', 'tlfb_list___6', 'tlfb_list___7', 'tlfb_list___8',\n",
       "       'tlfb_list___9', 'tlfb_list___10', 'tlfb_list___11',\n",
       "       'tlfb_list___12', 'tlfb_list___18', 'tlfb_alc_sip', 'tlfb_alc_use',\n",
       "       'tlfb_tob_puff', 'tlfb_cig_use', 'tlfb_ecig_use', 'tlfb_chew_use',\n",
       "       'tlfb_cigar_use', 'tlfb_hookah_use', 'tlfb_pipes_use',\n",
       "       'tlfb_nicotine_use', 'tlfb_mj_puff', 'tlfb_mj_use',\n",
       "       'tlfb_blunt_use', 'tlfb_edible_use', 'tlfb_mj_conc_use',\n",
       "       'tlfb_mj_drink_use', 'tlfb_tincture_use', 'tlfb_mj_synth_use',\n",
       "       'tlfb_coc_use', 'tlfb_bsalts_use', 'tlfb_meth_use',\n",
       "       'tlfb_mdma_use', 'tlfb_ket_use', 'tlfb_ghb_use', 'tlfb_opi_use',\n",
       "       'tlfb_hall_use', 'tlfb_shrooms_use', 'tlfb_salvia_use',\n",
       "       'tlfb_steroids_use', 'tlfb_bitta_use', 'tlfb_sniff_use',\n",
       "       'tlfb_inhalant_use', 'tlfb_amp_use', 'tlfb_tranq_use',\n",
       "       'tlfb_vicodin_use', 'tlfb_cough_use', 'tlfb_other_use',\n",
       "       'tlfb_hall_use_type___1', 'tlfb_hall_use_type___2',\n",
       "       'tlfb_hall_use_type___3', 'tlfb_hall_use_type___4',\n",
       "       'tlfb_hall_use_type___6', 'tlfb_hall_use_type___7',\n",
       "       'tlfb_hall_use_type___8', 'tlfb_hall_use_type___10',\n",
       "       'tlfb_inhalant_use_type___1', 'tlfb_inhalant_use_type___2',\n",
       "       'tlfb_inhalant_use_type___3', 'tlfb_inhalant_use_type___4',\n",
       "       'tlfb_inhalant_use_type___5', 'tlfb_inhalant_use_type___6',\n",
       "       'tlfb_inhalant_use_type___7', 'tlfb_inhalant_use_type___8',\n",
       "       'isip_1', 'su_isip_1_calc', 'isip_1b_yn', 'isip_1b_2',\n",
       "       'su_isip_1b_2_calc', 'isip_1d_2', 'isip_2_2', 'isip_3_2',\n",
       "       'isip_4_2', 'isip_5_2', 'isip_6_2', 'tlfb_alc_date1',\n",
       "       'tlfb_alc_calc', 'tlfb_alc_reg', 'tlfb_alc_date2',\n",
       "       'tlfb_alc_calc_reg', 'first_nicotine_1', 'first_nicotine_2',\n",
       "       'first_nicotine_3', 'first_nicotine_4', 'first_nicotine_5',\n",
       "       'first_nicotine_6', 'first_nicotine_7', 'first_nicotine_11',\n",
       "       'first_nicotine_12', 'first_nicotine_13', 'tlfb_cig_date1',\n",
       "       'tlfb_cig_calc', 'tlfb_cig_reg', 'tlfb_cig_date2',\n",
       "       'tlfb_cig_calc_reg', 'tlfb_ecig_date1', 'tlfb_ecig_calc',\n",
       "       'tlfb_ecig_reg', 'tlfb_ecig_date2', 'tlfb_ecig_calc_reg',\n",
       "       'tlfb_chew_date1', 'tlfb_chew_calc', 'tlfb_chew_reg',\n",
       "       'tlfb_chew_date2', 'tlfb_chew_calc_reg', 'tlfb_cigar_date1',\n",
       "       'tlfb_cigar_calc', 'tlfb_cigar_reg', 'tlfb_cigar_date2',\n",
       "       'tlfb_cigar_calc_reg', 'tlfb_hookah_date1', 'tlfb_hookah_calc',\n",
       "       'tlfb_hookah_reg', 'tlfb_hookah_date2', 'tlfb_hookah_calc_reg',\n",
       "       'tlfb_pipes_date1', 'tlfb_pipes_calc', 'tlfb_pipes_reg',\n",
       "       'tlfb_pipes_date2', 'tlfb_pipes_calc_reg', 'tlfb_nicotine_date1',\n",
       "       'tlfb_nicotine_calc', 'tlfb_nicotine_reg', 'tlfb_nicotine_date2',\n",
       "       'tlfb_nicotine_calc_reg', 'first_mj_1b', 'first_mj_1a',\n",
       "       'first_mj_3', 'first_mj_4', 'first_mj_5', 'first_mj_6',\n",
       "       'first_mj_7', 'first_mj_8', 'tlfb_mj_date1', 'tlfb_mj_calc',\n",
       "       'tlfb_mj_reg', 'tlfb_mj_date2', 'tlfb_mj_calc_reg',\n",
       "       'tlfb_blunt_date1', 'tlfb_blunt_calc', 'tlfb_blunt_reg',\n",
       "       'tlfb_blunt_date2', 'tlfb_blunt_calc_reg', 'tlfb_edible_date1',\n",
       "       'tlfb_edible_calc', 'tlfb_edible_reg', 'tlfb_edible_date2',\n",
       "       'tlfb_edible_calc_reg', 'tlfb_mj_conc_date1', 'tlfb_mj_conc_calc',\n",
       "       'tlfb_mj_conc_reg', 'tlfb_mj_conc_date2', 'tlfb_mj_conc_calc_reg',\n",
       "       'tlfb_mj_drink_date1', 'xcalc_mj_drink', 'tlfb_mj_drink_reg',\n",
       "       'tlfb_mj_drink_date2', 'tlfb_mj_drink_calc_reg',\n",
       "       'tlfb_tincture_date1', 'tlfb_tincture_calc', 'tlfb_tincture_reg',\n",
       "       'tlfb_tincture_date2', 'tlfb_tincture_calc_reg',\n",
       "       'tlfb_mj_synth_date1', 'tlfb_mj_synth_calc', 'tlfb_mj_synth_reg',\n",
       "       'tlfb_mj_synth_date2', 'tlfb_mj_synth_calc_reg', 'tlfb_coc_date1',\n",
       "       'tlfb_coc_calc', 'tlfb_coc_reg', 'tlfb_coc_date2',\n",
       "       'tlfb_coc_calc_reg', 'tlfb_bsalts_date1', 'tlfb_bsalts_calc',\n",
       "       'tlfb_bsalts_reg', 'tlfb_bsalts_date2', 'tlfb_bsalts_calc_reg',\n",
       "       'tlfb_meth_date1', 'tlfb_meth_calc', 'tlfb_meth_reg',\n",
       "       'tlfb_meth_date2', 'tlfb_meth_calc_reg', 'tlfb_mdma_date1',\n",
       "       'tlfb_mdma_calc', 'tlfb_mdma_reg', 'tlfb_mdma_date2',\n",
       "       'tlfb_mdma_calc_reg', 'tlfb_ket_date1', 'tlfb_ket_calc',\n",
       "       'tlfb_ket_reg', 'tlfb_ket_date2', 'tlfb_ket_calc_reg',\n",
       "       'tlfb_ghb_date1', 'tlfb_ghb_calc', 'tlfb_ghb_reg',\n",
       "       'tlfb_ghb_date2', 'tlfb_ghb_calc_reg', 'tlfb_opi_date1',\n",
       "       'tlfb_opi_calc', 'tlfb_opi_reg', 'tlfb_opi_date2',\n",
       "       'tlfb_opi_calc_reg', 'tlfb_hall_date1', 'tlfb_hall_calc',\n",
       "       'tlfb_hall_reg', 'tlfb_hall_date2', 'tlfb_hall_calc_reg',\n",
       "       'tlfb_shrooms_date1', 'tlfb_shrooms_calc', 'tlfb_shrooms_reg',\n",
       "       'tlfb_shrooms_date2', 'tlfb_shrooms_calc_reg', 'tlfb_salvia_date1',\n",
       "       'tlfb_salvia_calc', 'tlfb_salvia_reg', 'tlfb_salvia_date2',\n",
       "       'tlfb_salvia_calc_reg', 'tlfb_steroids_date1',\n",
       "       'tlfb_steroids_calc', 'tlfb_steroids_reg', 'tlfb_steroids_date2',\n",
       "       'tlfb_steroids_calc_reg', 'tlfb_bitta_date1', 'tlfb_bitta_calc',\n",
       "       'tlfb_bitta_reg', 'tlfb_bitta_date2', 'tlfb_bitta_calc_reg',\n",
       "       'tlfb_inhalant_date1', 'tlfb_inhalant_calc', 'tlfb_inhalant_reg',\n",
       "       'tlfb_inhalant_date2', 'tlfb_inhalant_calc_reg', 'tlfb_amp_date1',\n",
       "       'tlfb_amp_calc', 'tlfb_amp_reg', 'tlfb_amp_date2',\n",
       "       'tlfb_amp_calc_reg', 'tlfb_tranq_date1', 'tlfb_tranq_calc',\n",
       "       'tlfb_tranq_reg', 'tlfb_tranq_date2', 'tlfb_tranq_calc_reg',\n",
       "       'tlfb_vicodin_date1', 'tlfb_vicodin_calc', 'tlfb_vicodin_reg',\n",
       "       'tlfb_vicodin_date2', 'tlfb_vicodin_calc_reg', 'tlfb_cough_date1',\n",
       "       'tlfb_cough_calc', 'tlfb_cough_reg', 'tlfb_cough_date2',\n",
       "       'tlfb_cough_calc_reg', 'tlfb_alc_lt', 'tlfb_alc_lt_dk',\n",
       "       'tlfb_cig_lt', 'tlfb_cig_lt_dk', 'tlfb_ecig_lt', 'tlfb_ecig_lt_dk',\n",
       "       'tlfb_ecig_lt_size', 'tlfb_ecig_lt_strength_dk',\n",
       "       'tlfb_ecig_lt_strength', 'tlfb_cigar_lt', 'tlfb_cigar_lt_dk',\n",
       "       'tlfb_hookah_lt', 'tlfb_hookah_lt_dk', 'tlfb_chew_lt',\n",
       "       'tlfb_chew_lt_dk', 'tlfb_pipes_lt', 'tlfb_pipes_lt_dk',\n",
       "       'tlfb_lt_nicotine', 'tlfb_lt_nicotine_dk', 'tlfb_mj_lt',\n",
       "       'tlfb_mj_lt_dk', 'tlfb_blunt_lt', 'tlfb_blunt_lt_dk',\n",
       "       'tlfb_edible_lt', 'tlfb_edible_lt_dk', 'tlfb_edible_lt_mg_dk',\n",
       "       'tlfb_edible_lt_mg', 'tlfb_mj_conc_lt', 'tlfb_mj_conc_lt_dk',\n",
       "       'tlfb_mj_conc_lt_1b_dk', 'tlfb_mj_conc_lt_1b',\n",
       "       'tlfb_mj_conc_lt_1c___1', 'tlfb_mj_conc_lt_1c___2',\n",
       "       'tlfb_mj_conc_lt_1c___3', 'tlfb_mj_conc_lt_1c___4',\n",
       "       'tlfb_mj_conc_lt_1c___5', 'tlfb_mj_conc_lt_1c___6',\n",
       "       'tlfb_mj_conc_lt_1d', 'tlfb_mj_conc_lt_1e', 'tlfb_mj_drink_lt',\n",
       "       'tlfb_mj_drink_lt_dk', 'tlfb_tincture_lt', 'tlfb_tincture_lt_dk',\n",
       "       'tlfb_mj_synth_lt', 'tlfb_mj_synth_lt_dk', 'tlfb_coc_lt',\n",
       "       'tlfb_coc_lt_dk', 'tlfb_bsalts_lt', 'tlfb_bsalts_lt_dk',\n",
       "       'tlfb_meth_lt', 'tlfb_meth_lt_dk', 'tlfb_mdma_lt',\n",
       "       'tlfb_mdma_lt_dk', 'tlfb_ket_lt', 'tlfb_ket_lt_dk', 'tlfb_ghb_lt',\n",
       "       'tlfb_ghb_lt_dk', 'tlfb_opi_lt', 'tlfb_opi_lt_dk', 'tlfb_hall_lt',\n",
       "       'tlfb_hall_lt_dk', 'tlfb_shrooms_lt', 'tlfb_shrooms_lt_dk',\n",
       "       'tlfb_salvia_lt', 'tlfb_salvia_lt_dk', 'tlfb_steroids_lt',\n",
       "       'tlfb_steroids_lt_dk', 'tlfb_bitta_lt', 'tlfb_bitta_lt_dk',\n",
       "       'tlfb_inhalant_lt', 'tlfb_inhalant_lt_dk', 'tlfb_amp_lt',\n",
       "       'tlfb_amp_lt_dk', 'tlfb_tranq_lt', 'tlfb_tranq_lt_dk',\n",
       "       'tlfb_vicodin_lt', 'tlfb_vicodin_lt_dk', 'tlfb_cough_lt',\n",
       "       'tlfb_cough_lt_dk', 'tlfb_other_lt', 'tlfb_other_lt_dk',\n",
       "       'tlfb_alc_max', 'tlfb_alc_max_dk', 'tlfb_cig_max',\n",
       "       'tlfb_cig_max_dk', 'tlfb_ecig_max_dk', 'tlfb_ecig_max',\n",
       "       'tlfb_chew_max', 'tlfb_chew_max_dk', 'tlfb_cigar_max',\n",
       "       'tlfb_cigar_max_dk', 'tlfb_hookah_max', 'tlfb_hookah_max_dk',\n",
       "       'tlfb_pipes_max', 'tlfb_pipes_max_dk', 'tlfb_nicotine_max',\n",
       "       'tlfb_nicotine_max_dk', 'tlfb_mj_max', 'tlfb_mj_max_dk',\n",
       "       'tlfb_blunt_max', 'tlfb_blunt_max_dk', 'tlfb_edible_max_dk',\n",
       "       'tlfb_edible_max', 'tlfb_mj_conc_max_dk', 'tlfb_mj_conc_max',\n",
       "       'tlfb_mj_drink_max', 'tlfb_mj_drink_max_dk', 'tlfb_tincture_max',\n",
       "       'tlfb_tincture_max_dk', 'tlfb_mj_synth_max',\n",
       "       'tlfb_mj_synth_max_dk', 'tlfb_coc_max', 'tlfb_coc_max_dk',\n",
       "       'tlfb_bsalts_max', 'tlfb_bsalts_max_dk', 'tlfb_meth_max',\n",
       "       'tlfb_meth_max_dk', 'tlfb_mdma_max', 'tlfb_mdma_max_dk',\n",
       "       'tlfb_ket_max', 'tlfb_ket_max_dk', 'tlfb_ghb_max',\n",
       "       'tlfb_ghb_max_dk', 'tlfb_opi_max', 'tlfb_opi_max_dk',\n",
       "       'tlfb_hall_max', 'tlfb_hall_max_dk', 'tlfb_shrooms_max',\n",
       "       'tlfb_shrooms_max_dk', 'tlfb_salvia_max', 'tlfb_salvia_max_dk',\n",
       "       'tlfb_steroids_max', 'tlfb_steroids_max_dk', 'tlfb_bitta_max',\n",
       "       'tlfb_bitta_max_dk', 'tlfb_inhalant_max', 'tlfb_inhalant_max_dk',\n",
       "       'tlfb_amp_max', 'tlfb_amp_max_dk', 'tlfb_tranq_max',\n",
       "       'tlfb_tranq_max_dk', 'tlfb_vicodin_max', 'tlfb_vicodin_max_dk',\n",
       "       'tlfb_cough_max', 'tlfb_cough_max_dk', 'tlfb_other_max',\n",
       "       'tlfb_other_max_dk', 'tlfb_alc_last', 'tlfb_alc_last_calc',\n",
       "       'tlfb_cig_last', 'tlfb_cig_last_calc', 'tlfb_ecig_last',\n",
       "       'tlfb_ecig_last_calc', 'tlfb_chew_last', 'tlfb_chew_last_calc',\n",
       "       'tlfb_cigar_last', 'tlfb_cigar_last_calc', 'tlfb_hookah_last',\n",
       "       'tlfb_hookah_last_calc', 'tlfb_pipes_last', 'tlfb_pipes_last_calc',\n",
       "       'tlfb_nicotine_last', 'tlfb_nicotine_last_calc', 'tlfb_mj_last',\n",
       "       'tlfb_mj_last_calc', 'tlfb_blunt_last', 'tlfb_blunt_last_calc',\n",
       "       'tlfb_edible_last', 'tlfb_edible_last_calc', 'tlfb_mj_conc_last',\n",
       "       'tlfb_mj_conc_last_calc', 'tlfb_mj_drink_last',\n",
       "       'tlfb_mj_drink_last_calc', 'tlfb_tincture_last',\n",
       "       'tlfb_tincture_last_calc', 'tlfb_mj_synth_last',\n",
       "       'tlfb_mj_synth_last_calc', 'tlfb_coc_last', 'tlfb_coc_last_calc',\n",
       "       'tlfb_bsalts_last', 'tlfb_bsalts_last_calc', 'tlfb_meth_last',\n",
       "       'tlfb_meth_last_calc', 'tlfb_mdma_last', 'tlfb_mdma_last_calc',\n",
       "       'tlfb_ket_last', 'tlfb_ket_last_calc', 'tlfb_ghb_last',\n",
       "       'tlfb_ghb_last_calc', 'tlfb_opi_last', 'tlfb_hall_last',\n",
       "       'tlfb_opi_last_calc', 'tlfb_hall_last_calc', 'tlfb_shrooms_last',\n",
       "       'tlfb_shrooms_last_calc', 'tlfb_salvia_last',\n",
       "       'tlfb_salvia_last_calc', 'tlfb_steroids_last',\n",
       "       'tlfb_steroids_last_calc', 'tlfb_bitta_last',\n",
       "       'tlfb_bitta_last_calc', 'tlfb_inhalant_last',\n",
       "       'tlfb_inhalant_last_calc', 'tlfb_amp_last', 'tlfb_amp_last_calc',\n",
       "       'tlfb_tranq_last', 'tlfb_tranq_last_calc', 'tlfb_vicodin_last',\n",
       "       'tlfb_vicodin_last_calc', 'tlfb_cough_last',\n",
       "       'tlfb_cough_last_calc', 'tlfb_other_last', 'tlfb_6mo_skip___1',\n",
       "       'tlfb_6mo_skip___2', 'tlfb_6mo_skip___3', 'tlfb_6mo_skip___4',\n",
       "       'tlfb_6mo_skip___5', 'tlfb_6mo_skip___6', 'tlfb_6mo_skip___7',\n",
       "       'tlfb_6mo_skip___8', 'tlfb_6mo_skip___9', 'tlfb_6mo_skip___10',\n",
       "       'tlfb_6mo_skip___11', 'tlfb_6mo_skip___12', 'tlfb_6mo_skip___13',\n",
       "       'tlfb_6mo_skip___14', 'tlfb_6mo_skip___15', 'tlfb_6mo_skip___16',\n",
       "       'tlfb_6mo_skip___17', 'tlfb_6mo_skip___18', 'tlfb_6mo_skip___19',\n",
       "       'tlfb_6mo_skip___20', 'tlfb_6mo_skip___21', 'tlfb_6mo_skip___22',\n",
       "       'tlfb_6mo_skip___23', 'tlfb_6mo_skip___24', 'tlfb_6mo_skip___25',\n",
       "       'tlfb_6mo_skip___26', 'tlfb_6mo_skip___27', 'tlfb_6mo_skip___28',\n",
       "       'tlfb_6mo_skip___29', 'tlfb_6mo_skip___30', 'tlfb_6mo_skip___31',\n",
       "       'tlfb_6mo_skip___32', 'tlfb_6mo_hall_use_type___1',\n",
       "       'tlfb_6mo_hall_use_type___2', 'tlfb_6mo_hall_use_type___3',\n",
       "       'tlfb_6mo_hall_use_type___4', 'tlfb_6mo_hall_use_type___6',\n",
       "       'tlfb_6mo_hall_use_type___7', 'tlfb_6mo_hall_use_type___8',\n",
       "       'tlfb_6mo_hall_use_type___9', 'tlfb_6mo_1_cig', 'tlfb_6mo_1_ecig',\n",
       "       'tlfb_6mo_1_ecig_dk', 'tlfb_6mo_2_ecig', 'tlfb_6mo_2_ecig_dk',\n",
       "       'tlfb_6mo_3_ecig', 'tlfb_6mo_4_ecig', 'tlfb_6mo_4_mj',\n",
       "       'tlfb_6mo_4_mj_dk', 'tlfb_6mo_5_mj', 'tlfb_6mo_6_mj',\n",
       "       'tlfb_6mo_7_mj', 'tlfb_6mo_8_mj', 'tlfb_6mo_9_concmj',\n",
       "       'tlfb_6mo_9b_concmj', 'tlfb_6mo_10_concmj', 'tlfb_6mo_10b_concmj',\n",
       "       'tlfb_6mo_11_concmj', 'tlfb_6mo_12_concmj', 'tlfb_6mo_13_mj___1',\n",
       "       'tlfb_6mo_13_mj___2', 'tlfb_6mo_13_mj___3', 'tlfb_6mo_13_mj___4',\n",
       "       'tlfb_6mo_13_mj___5', 'tlfb_6mo_13_mj___6', 'tlfb_6mo_13_mj___7',\n",
       "       'tlfb_6mo_13_mj___8', 'tlfb_6mo_13_mj___9', 'tlfb_6mo_13_mj___10',\n",
       "       'tlfb_6mo_13_mj___11', 'tlfb_6mo_13_mj___12',\n",
       "       'tlfb_6mo_13_mj___13', 'tlfb_6mo_13_mj___14',\n",
       "       'tlfb_6mo_13_mj___15', 'tlfb_6mo_13_mj___16',\n",
       "       'tlfb_6mo_mj_drink_type', 'tlfb_6mo_tincture_type',\n",
       "       'tlfb_6mo_14_coc', 'tlfb_6mo_15_coc', 'tlfb_6mo_16_coc',\n",
       "       'tlfb_6mo_17_coc', 'tlfb_6mo_18_meth', 'tlfb_6mo_19_meth',\n",
       "       'tlfb_6mo_20_meth', 'tlfb_6mo_21_heroin', 'tlfb_6mo_22_heroin',\n",
       "       'tlfb_6mo_23_heroin', 'xskipout_alc', 'xskipout_tob',\n",
       "       'xskipout_mj', 'xskipout_other', 'caff_intake_1', 'caff_intake_3',\n",
       "       'caff_intake_4', 'caff_intake_6', 'caff_intake_9', 'caff_max',\n",
       "       'caff_max_type', 'peer_deviance_1_4bbe5d',\n",
       "       'peer_deviance_2_dd1457', 'peer_deviance_3_e1ec2e',\n",
       "       'peer_deviance_4_b6c588', 'peer_deviance_5_bffa44',\n",
       "       'peer_deviance_6_69562e', 'peer_deviance_7_beb683',\n",
       "       'peer_deviance_8_35702e', 'peer_deviance_9_6dd4ef',\n",
       "       'path_alc_youth1', 'path_alc_youth2', 'path_alc_youth3',\n",
       "       'path_alc_youth4', 'path_alc_youth5', 'path_alc_youth6',\n",
       "       'path_alc_youth7', 'path_alc_youth8', 'path_alc_youth9',\n",
       "       'subj_resp_alc_1a', 'subj_resp_alc_2a', 'subj_resp_alc_3a',\n",
       "       'subj_resp_alc_4a', 'subj_resp_alc_1b', 'subj_resp_alc_2b',\n",
       "       'subj_resp_alc_3b', 'subj_resp_alc_4b', 'subj_resp_alc_1c',\n",
       "       'subj_resp_alc_2c', 'subj_resp_alc_3c', 'subj_resp_alc_4c',\n",
       "       'hangover1', 'hangover2', 'hangover3', 'hangover4', 'hangover5',\n",
       "       'hangover6', 'hangover7', 'hangover8', 'hangover9', 'hangover10',\n",
       "       'hangover11', 'hangover12', 'hangover13', 'hangover14',\n",
       "       'rapi_section1_q01', 'rapi_section1_q02', 'rapi_section1_q03',\n",
       "       'rapi_section1_q04', 'rapi_section1_q05', 'rapi_section1_q06',\n",
       "       'rapi_section1_q07', 'rapi_section2_q08', 'rapi_section2_q09',\n",
       "       'rapi_section2_q10', 'rapi_section2_q11', 'rapi_section2_q12',\n",
       "       'rapi_section2_q13', 'rapi_section2_q14', 'rapi_section3_q15',\n",
       "       'rapi_section3_q16', 'rapi_section3_q17', 'rapi_section3_q18',\n",
       "       'subj_resp_nic_q01', 'subj_resp_nic_q02', 'subj_resp_nic_q03',\n",
       "       'subj_resp_nic_q04', 'subj_resp_nic_q05', 'subj_resp_nic_q06',\n",
       "       'subj_resp_nic_q07', 'subj_resp_nic_q08', 'subj_resp_nic_q09',\n",
       "       'path_nic_dep_q01', 'path_nic_dep_q02', 'path_nic_dep_q03',\n",
       "       'path_nic_dep_q04', 'path_nic_dep_q05', 'path_nic_dep_q06',\n",
       "       'path_nic_dep_q07', 'path_nic_dep_q08', 'path_nic_dep_q09',\n",
       "       'path_nic_dep_q10', 'sub_res_mj_q01', 'sub_res_mj_q02',\n",
       "       'sub_res_mj_q03', 'sub_res_mj_q04', 'sub_res_mj_q05',\n",
       "       'sub_res_mj_q06', 'sub_res_mj_q07', 'sub_res_mj_q08',\n",
       "       'sub_res_mj_q09', 'sub_res_mj_q10', 'sub_res_mj_q11', 'mapi_q01',\n",
       "       'mapi_q02', 'mapi_q03', 'mapi_q04', 'mapi_q05', 'mapi_q06',\n",
       "       'mapi_q07', 'mapi_q08', 'mapi_q09', 'mapi_q10', 'mapi_q11',\n",
       "       'mapi_q12', 'mapi_q13', 'mapi_q14', 'mapi_q15', 'mapi_q16',\n",
       "       'mapi_q17', 'mapi_q18', 'dapi_q01', 'dapi_q02', 'dapi_q03',\n",
       "       'dapi_q04', 'dapi_q05', 'dapi_q06', 'dapi_q07', 'dapi_q08',\n",
       "       'dapi_q09', 'dapi_q10', 'dapi_q11', 'dapi_q12', 'dapi_q13',\n",
       "       'dapi_q14', 'dapi_q15', 'dapi_q16', 'dapi_q17', 'dapi_q18',\n",
       "       'eventname', 'su_tlfb_alc_lt_calc', 'su_tlfb_cig_lt_calc',\n",
       "       'su_tlfb_ecig_lt_calc', 'su_tlfb_cigar_lt_calc',\n",
       "       'su_tlfb_hookah_lt_calc', 'su_tlfb_chew_lt_calc',\n",
       "       'su_tlfb_pipes_lt_calc', 'su_tlfb_lt_nicotine_calc',\n",
       "       'su_tlfb_alc_max_calc', 'su_tlfb_cig_max_calc',\n",
       "       'su_tlfb_ecig_max_calc', 'su_tlfb_cigar_max_calc',\n",
       "       'su_tlfb_hookah_max_calc', 'su_tlfb_chew_max_calc',\n",
       "       'su_tlfb_pipes_max_calc', 'su_tlfb_nicotine_max_calc',\n",
       "       'su_tlfb_6mo_1_ecig_calc', 'su_tlfb_6mo_2_ecig_calc',\n",
       "       'su_caff_intake_1_calc', 'su_caff_intake_3_calc',\n",
       "       'su_caff_intake_4_calc', 'su_caff_intake_6_calc',\n",
       "       'su_caff_intake_9_calc', 'su_caff_max_calc', 'collection_title',\n",
       "       'study_cohort_name'], dtype=object)"
      ]
     },
     "execution_count": 100,
     "metadata": {},
     "output_type": "execute_result"
    }
   ],
   "source": [
    "# get the list of columns for analysis \n",
    "youth_substance.columns.values"
   ]
  },
  {
   "cell_type": "markdown",
   "metadata": {},
   "source": [
    "### Alcohol\n",
    "1. Alcohol-Acute Subjective Response, \n",
    "2. Hangover symptom (rare response), \n",
    "3. Rutgers Alcohol Problme Index"
   ]
  },
  {
   "cell_type": "code",
   "execution_count": 105,
   "metadata": {},
   "outputs": [],
   "source": [
    "substance_alch = youth_substance[['subjectkey','interview_date', 'interview_age', 'gender', # subject key, interview date, and basic demo\n",
    "                                     'tlfb_alc', # heard about alcohol\n",
    "                                     'tlfb_alc_sip', # tried alcohol - sip\n",
    "                                     'tlfb_alc_use', # consume full drink of alcohol\n",
    "                                     'su_isip_1_calc', # the total number of sips (cal)\n",
    "                                     'isip_1b_yn', 'isip_1b_2', 'su_isip_1b_2_calc', # drink alcohol nonreglious numbers\n",
    "                                     'isip_1d_2', # how old of 1st time to sip\n",
    "                                     'isip_2_2', #continue to drink after sip, ignored 'isip_3_2' - type of drinks\n",
    "                                     'isip_4_2', # types of drinks \n",
    "                                     'isip_5_2', # did the person offer you to drink\n",
    "                                     'isip_6_2', # rember or find out by others (parents)\n",
    "                                     'tlfb_alc_date1', #when first time to try alcohol\n",
    "                                     'tlfb_alc_reg', # after first full drink, become regular drinker\n",
    "                                     'su_tlfb_alc_lt_calc', # how many standarded drinks in life \n",
    "                                     'tlfb_alc_max', # max drinks in one setting\n",
    "                                     'tlfb_alc_last', # last time you use alcohol \n",
    "                                     'tlfb_6mo_skip___1', # last time use alcohol in the past six month\n",
    "                                     'peer_deviance_2_dd1457', #  friends drink alcohol 0 = None; \n",
    "                                                              #1 = A Few; 2 = Some; 3 = Most; 4 = All\n",
    "                                     'path_alc_youth2', # curious about alcohol 1 = Very curious; 2 = Somewhat curious; 3 = A little curious; \n",
    "                                                        #4 = Not at all curious; 5 = Don't know; 6 = Refused \n",
    "                                     'path_alc_youth5', # try alcohol soon? 1 = Definitely yes; 2 = Probably yes; 3 = Probably not; \n",
    "                                                        # 4 = Definitely not; 5 = Don't know; 6 = Refused to answer\n",
    "                                     'path_alc_youth8' #best friends were to offer you alcohol, try it?\n",
    "                                    ]] "
   ]
  },
  {
   "cell_type": "code",
   "execution_count": 106,
   "metadata": {},
   "outputs": [
    {
     "data": {
      "text/plain": [
       "array(['subjectkey', 'interview_date', 'interview_age', 'gender',\n",
       "       'tlfb_alc', 'tlfb_alc_sip', 'tlfb_alc_use', 'su_isip_1_calc',\n",
       "       'isip_1b_yn', 'isip_1b_2', 'su_isip_1b_2_calc', 'isip_1d_2',\n",
       "       'isip_2_2', 'isip_4_2', 'isip_5_2', 'isip_6_2', 'tlfb_alc_date1',\n",
       "       'tlfb_alc_reg', 'su_tlfb_alc_lt_calc', 'tlfb_alc_max',\n",
       "       'tlfb_alc_last', 'tlfb_6mo_skip___1', 'peer_deviance_2_dd1457',\n",
       "       'path_alc_youth2', 'path_alc_youth5', 'path_alc_youth8'],\n",
       "      dtype=object)"
      ]
     },
     "execution_count": 106,
     "metadata": {},
     "output_type": "execute_result"
    }
   ],
   "source": [
    "substance_alch.head()\n",
    "substance_alch.columns.values"
   ]
  },
  {
   "cell_type": "markdown",
   "metadata": {},
   "source": [
    "### nicotine\n",
    "1. Nicotine Dependence (PATH)\n",
    "2. Tobacco- Low level\n",
    "3. note that the tobacco-adute subjective is empty based from deap"
   ]
  },
  {
   "cell_type": "code",
   "execution_count": 103,
   "metadata": {},
   "outputs": [],
   "source": [
    "substance_nct = [['subjectkey', # interview subjectkey\n",
    "                  'tlfb_tob', # ever heard about tobacco\n",
    "                  \n",
    "                       \n",
    "                      ]]"
   ]
  },
  {
   "cell_type": "code",
   "execution_count": null,
   "metadata": {},
   "outputs": [],
   "source": []
  },
  {
   "cell_type": "code",
   "execution_count": null,
   "metadata": {},
   "outputs": [],
   "source": []
  },
  {
   "cell_type": "code",
   "execution_count": null,
   "metadata": {},
   "outputs": [],
   "source": []
  },
  {
   "cell_type": "code",
   "execution_count": 97,
   "metadata": {},
   "outputs": [
    {
     "data": {
      "text/plain": [
       "0.0    19\n",
       "1.0     2\n",
       "Name: subj_resp_alc_1a, dtype: int64"
      ]
     },
     "execution_count": 97,
     "metadata": {},
     "output_type": "execute_result"
    }
   ],
   "source": [
    "youth_substance['subj_resp_alc_1a'].value_counts()"
   ]
  },
  {
   "cell_type": "code",
   "execution_count": null,
   "metadata": {},
   "outputs": [],
   "source": [
    "substance_mj = [['subjectkey', # interview subjectkey\n",
    "                 'tlfb_mj', 'tlfb_mj_synth', # heard about mj and synth mj\n",
    "                       \n",
    "                      ]]"
   ]
  },
  {
   "cell_type": "code",
   "execution_count": null,
   "metadata": {},
   "outputs": [],
   "source": []
  },
  {
   "cell_type": "code",
   "execution_count": null,
   "metadata": {},
   "outputs": [],
   "source": []
  },
  {
   "cell_type": "code",
   "execution_count": null,
   "metadata": {},
   "outputs": [],
   "source": []
  },
  {
   "cell_type": "code",
   "execution_count": null,
   "metadata": {},
   "outputs": [],
   "source": []
  }
 ],
 "metadata": {
  "kernelspec": {
   "display_name": "Python 3",
   "language": "python",
   "name": "python3"
  },
  "language_info": {
   "codemirror_mode": {
    "name": "ipython",
    "version": 3
   },
   "file_extension": ".py",
   "mimetype": "text/x-python",
   "name": "python",
   "nbconvert_exporter": "python",
   "pygments_lexer": "ipython3",
   "version": "3.7.1"
  }
 },
 "nbformat": 4,
 "nbformat_minor": 2
}
